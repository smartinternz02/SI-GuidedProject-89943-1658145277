{
 "cells": [
  {
   "cell_type": "code",
   "execution_count": 3,
   "id": "3b98ccc7",
   "metadata": {},
   "outputs": [],
   "source": [
    "import numpy as np\n",
    "import pandas as pd\n",
    "import matplotlib.pyplot as plt\n",
    "%matplotlib inline\n",
    "from sklearn.preprocessing import LabelEncoder\n",
    "from sklearn.model_selection import train_test_split\n",
    "from sklearn.preprocessing import StandardScaler\n",
    "from sklearn.linear_model import LinearRegression\n",
    "from sklearn.ensemble import RandomForestRegressor\n",
    "from sklearn.ensemble import GradientBoostingRegressor\n",
    "from sklearn.metrics import r2_score,mean_squared_error\n",
    "import pickle\n",
    "import seaborn as sns\n",
    "from scipy import stats\n",
    "plt.style.use('fivethirtyeight')\n",
    "import warnings\n",
    "warnings.filterwarnings('ignore')"
   ]
  },
  {
   "cell_type": "code",
   "execution_count": 5,
   "id": "0c4adbd6",
   "metadata": {},
   "outputs": [
    {
     "data": {
      "text/html": [
       "<div>\n",
       "<style scoped>\n",
       "    .dataframe tbody tr th:only-of-type {\n",
       "        vertical-align: middle;\n",
       "    }\n",
       "\n",
       "    .dataframe tbody tr th {\n",
       "        vertical-align: top;\n",
       "    }\n",
       "\n",
       "    .dataframe thead th {\n",
       "        text-align: right;\n",
       "    }\n",
       "</style>\n",
       "<table border=\"1\" class=\"dataframe\">\n",
       "  <thead>\n",
       "    <tr style=\"text-align: right;\">\n",
       "      <th></th>\n",
       "      <th>city</th>\n",
       "      <th>monthly_rant</th>\n",
       "      <th>BHKS</th>\n",
       "      <th>Baths</th>\n",
       "      <th>sqft_per_inch</th>\n",
       "      <th>build_up_area</th>\n",
       "      <th>Type_of_property</th>\n",
       "      <th>location_of_the_property</th>\n",
       "      <th>deposit</th>\n",
       "    </tr>\n",
       "  </thead>\n",
       "  <tbody>\n",
       "    <tr>\n",
       "      <th>0</th>\n",
       "      <td>mumbai</td>\n",
       "      <td>17500.0</td>\n",
       "      <td>1.0</td>\n",
       "      <td>2 Baths</td>\n",
       "      <td>470</td>\n",
       "      <td>Carpet Area</td>\n",
       "      <td>Residential</td>\n",
       "      <td>Kolshet Road</td>\n",
       "      <td>75000.0</td>\n",
       "    </tr>\n",
       "    <tr>\n",
       "      <th>1</th>\n",
       "      <td>mumbai</td>\n",
       "      <td>75000.0</td>\n",
       "      <td>3.0</td>\n",
       "      <td>3 Baths</td>\n",
       "      <td>1800</td>\n",
       "      <td>Super built-up Area</td>\n",
       "      <td>Residential</td>\n",
       "      <td>Sector 21 Nerul</td>\n",
       "      <td>400000.0</td>\n",
       "    </tr>\n",
       "    <tr>\n",
       "      <th>2</th>\n",
       "      <td>mumbai</td>\n",
       "      <td>60000.0</td>\n",
       "      <td>2.0</td>\n",
       "      <td>2 Baths</td>\n",
       "      <td>950</td>\n",
       "      <td>Super built-up Area</td>\n",
       "      <td>Residential</td>\n",
       "      <td>Wadala</td>\n",
       "      <td>200000.0</td>\n",
       "    </tr>\n",
       "    <tr>\n",
       "      <th>3</th>\n",
       "      <td>mumbai</td>\n",
       "      <td>52000.0</td>\n",
       "      <td>3.0</td>\n",
       "      <td>3 Baths</td>\n",
       "      <td>1300</td>\n",
       "      <td>Carpet Area</td>\n",
       "      <td>Residential</td>\n",
       "      <td>Hiranandani Estate</td>\n",
       "      <td>300000.0</td>\n",
       "    </tr>\n",
       "    <tr>\n",
       "      <th>4</th>\n",
       "      <td>mumbai</td>\n",
       "      <td>30000.0</td>\n",
       "      <td>1.0</td>\n",
       "      <td>1 Bath</td>\n",
       "      <td>550</td>\n",
       "      <td>Built-up Area</td>\n",
       "      <td>Residential</td>\n",
       "      <td>Kanjurmarg (East)</td>\n",
       "      <td>150000.0</td>\n",
       "    </tr>\n",
       "    <tr>\n",
       "      <th>...</th>\n",
       "      <td>...</td>\n",
       "      <td>...</td>\n",
       "      <td>...</td>\n",
       "      <td>...</td>\n",
       "      <td>...</td>\n",
       "      <td>...</td>\n",
       "      <td>...</td>\n",
       "      <td>...</td>\n",
       "      <td>...</td>\n",
       "    </tr>\n",
       "    <tr>\n",
       "      <th>146523</th>\n",
       "      <td>Trivandraum</td>\n",
       "      <td>10000.0</td>\n",
       "      <td>2.0</td>\n",
       "      <td>3 Baths</td>\n",
       "      <td>1200</td>\n",
       "      <td>Built-up Area</td>\n",
       "      <td>Independent</td>\n",
       "      <td>Anayara</td>\n",
       "      <td>25000.0</td>\n",
       "    </tr>\n",
       "    <tr>\n",
       "      <th>146524</th>\n",
       "      <td>Trivandraum</td>\n",
       "      <td>21000.0</td>\n",
       "      <td>2.0</td>\n",
       "      <td>2 Baths</td>\n",
       "      <td>1155</td>\n",
       "      <td>Carpet Area</td>\n",
       "      <td>Residential</td>\n",
       "      <td>Kazhakkoottam</td>\n",
       "      <td>50000.0</td>\n",
       "    </tr>\n",
       "    <tr>\n",
       "      <th>146525</th>\n",
       "      <td>Trivandraum</td>\n",
       "      <td>10000.0</td>\n",
       "      <td>2.0</td>\n",
       "      <td>2 Baths</td>\n",
       "      <td>861</td>\n",
       "      <td>Built-up Area</td>\n",
       "      <td>Residential</td>\n",
       "      <td>Vattiyoorkkav</td>\n",
       "      <td>30000.0</td>\n",
       "    </tr>\n",
       "    <tr>\n",
       "      <th>146526</th>\n",
       "      <td>Trivandraum</td>\n",
       "      <td>33000.0</td>\n",
       "      <td>4.0</td>\n",
       "      <td>5 Baths</td>\n",
       "      <td>3200</td>\n",
       "      <td>Plot Area</td>\n",
       "      <td>Independent</td>\n",
       "      <td>Pattom</td>\n",
       "      <td>150000.0</td>\n",
       "    </tr>\n",
       "    <tr>\n",
       "      <th>146527</th>\n",
       "      <td>Trivandraum</td>\n",
       "      <td>8000.0</td>\n",
       "      <td>4.0</td>\n",
       "      <td>5 Baths</td>\n",
       "      <td>2178</td>\n",
       "      <td>Plot Area</td>\n",
       "      <td>Independent</td>\n",
       "      <td>Kallampally</td>\n",
       "      <td>24000.0</td>\n",
       "    </tr>\n",
       "  </tbody>\n",
       "</table>\n",
       "<p>146528 rows × 9 columns</p>\n",
       "</div>"
      ],
      "text/plain": [
       "               city  monthly_rant  BHKS    Baths  sqft_per_inch  \\\n",
       "0            mumbai       17500.0   1.0  2 Baths            470   \n",
       "1            mumbai       75000.0   3.0  3 Baths           1800   \n",
       "2            mumbai       60000.0   2.0  2 Baths            950   \n",
       "3            mumbai       52000.0   3.0  3 Baths           1300   \n",
       "4            mumbai       30000.0   1.0   1 Bath            550   \n",
       "...             ...           ...   ...      ...            ...   \n",
       "146523  Trivandraum       10000.0   2.0  3 Baths           1200   \n",
       "146524  Trivandraum       21000.0   2.0  2 Baths           1155   \n",
       "146525  Trivandraum       10000.0   2.0  2 Baths            861   \n",
       "146526  Trivandraum       33000.0   4.0  5 Baths           3200   \n",
       "146527  Trivandraum        8000.0   4.0  5 Baths           2178   \n",
       "\n",
       "              build_up_area Type_of_property location_of_the_property  \\\n",
       "0               Carpet Area      Residential             Kolshet Road   \n",
       "1       Super built-up Area      Residential          Sector 21 Nerul   \n",
       "2       Super built-up Area      Residential                   Wadala   \n",
       "3               Carpet Area      Residential       Hiranandani Estate   \n",
       "4             Built-up Area      Residential        Kanjurmarg (East)   \n",
       "...                     ...              ...                      ...   \n",
       "146523        Built-up Area      Independent                  Anayara   \n",
       "146524          Carpet Area      Residential            Kazhakkoottam   \n",
       "146525        Built-up Area      Residential            Vattiyoorkkav   \n",
       "146526            Plot Area      Independent                   Pattom   \n",
       "146527            Plot Area      Independent              Kallampally   \n",
       "\n",
       "         deposit  \n",
       "0        75000.0  \n",
       "1       400000.0  \n",
       "2       200000.0  \n",
       "3       300000.0  \n",
       "4       150000.0  \n",
       "...          ...  \n",
       "146523   25000.0  \n",
       "146524   50000.0  \n",
       "146525   30000.0  \n",
       "146526  150000.0  \n",
       "146527   24000.0  \n",
       "\n",
       "[146528 rows x 9 columns]"
      ]
     },
     "execution_count": 5,
     "metadata": {},
     "output_type": "execute_result"
    }
   ],
   "source": [
    "df=pd.read_csv(\"C:\\gec_ml\\99acres_data.csv\")\n",
    "df"
   ]
  },
  {
   "cell_type": "code",
   "execution_count": 3,
   "id": "4c370f68",
   "metadata": {},
   "outputs": [
    {
     "name": "stdout",
     "output_type": "stream",
     "text": [
      "Numbers of Area type:\n",
      "\n",
      "Super built-up Area    69918\n",
      "Carpet Area            36847\n",
      "Built-up Area          29104\n",
      "Plot Area              10659\n",
      "Name: build_up_area, dtype: int64\n"
     ]
    },
    {
     "data": {
      "text/plain": [
       "<AxesSubplot:xlabel='build_up_area', ylabel='count'>"
      ]
     },
     "execution_count": 3,
     "metadata": {},
     "output_type": "execute_result"
    },
    {
     "data": {
      "image/png": "[encoded data removed]",
      "text/plain": [
       "<Figure size 576x288 with 1 Axes>"
      ]
     },
     "metadata": {},
     "output_type": "display_data"
    }
   ],
   "source": [
    "print('Numbers of Area type:')\n",
    "print()\n",
    "print(df[\"build_up_area\"].value_counts())\n",
    "sns.set(rc={'figure.figsize':(8,4)})\n",
    "sns.countplot(x='build_up_area',data=df,palette=\"Set2\")"
   ]
  },
  {
   "cell_type": "code",
   "execution_count": 4,
   "id": "e90d84b5",
   "metadata": {},
   "outputs": [
    {
     "name": "stdout",
     "output_type": "stream",
     "text": [
      "Types of property : \n",
      "\n",
      "Residential    102024\n",
      "Independent     41243\n",
      "Studio           2606\n",
      "Serviced          363\n",
      "Farm              161\n",
      "for               118\n",
      "Floor              13\n",
      "Name: Type_of_property, dtype: int64\n"
     ]
    },
    {
     "data": {
      "text/plain": [
       "<AxesSubplot:xlabel='Type_of_property', ylabel='count'>"
      ]
     },
     "execution_count": 4,
     "metadata": {},
     "output_type": "execute_result"
    },
    {
     "data": {
      "image/png": "[encoded data removed]",
      "text/plain": [
       "<Figure size 1080x288 with 1 Axes>"
      ]
     },
     "metadata": {},
     "output_type": "display_data"
    }
   ],
   "source": [
    "print(\"Types of property : \")\n",
    "print()\n",
    "print(df[\"Type_of_property\"].value_counts())\n",
    "sns.set(rc={'figure.figsize':(15,4)})\n",
    "sns.countplot(x=\"Type_of_property\",data=df,palette=\"Set2\")"
   ]
  },
  {
   "cell_type": "code",
   "execution_count": 5,
   "id": "2c87f59a",
   "metadata": {},
   "outputs": [
    {
     "name": "stdout",
     "output_type": "stream",
     "text": [
      "Property located based on city : \n",
      "\n",
      "ncr            42016\n",
      "mumbai         37566\n",
      "bangalore      25600\n",
      "pune           18176\n",
      "chennai         9973\n",
      "hyderabad       7131\n",
      "Ahmedabad       5602\n",
      "Trivandraum      464\n",
      "Name: city, dtype: int64\n"
     ]
    },
    {
     "data": {
      "text/plain": [
       "<AxesSubplot:xlabel='city', ylabel='count'>"
      ]
     },
     "execution_count": 5,
     "metadata": {},
     "output_type": "execute_result"
    },
    {
     "data": {
      "image/png": "[encoded data removed]",
      "text/plain": [
       "<Figure size 720x144 with 1 Axes>"
      ]
     },
     "metadata": {},
     "output_type": "display_data"
    }
   ],
   "source": [
    "print(\"Property located based on city : \")\n",
    "print()\n",
    "print(df[\"city\"].value_counts())\n",
    "sns.set(rc={\"figure.figsize\":(10,2)})\n",
    "sns.countplot(x=\"city\",data=df,palette=\"Set2\")"
   ]
  },
  {
   "cell_type": "code",
   "execution_count": 6,
   "id": "72d8f822",
   "metadata": {},
   "outputs": [
    {
     "data": {
      "text/plain": [
       "<AxesSubplot:xlabel='monthly_rant'>"
      ]
     },
     "execution_count": 6,
     "metadata": {},
     "output_type": "execute_result"
    },
    {
     "data": {
      "image/png": "[encoded data removed]",
      "text/plain": [
       "<Figure size 720x144 with 1 Axes>"
      ]
     },
     "metadata": {},
     "output_type": "display_data"
    }
   ],
   "source": [
    "sns.boxplot(df[\"monthly_rant\"])"
   ]
  },
  {
   "cell_type": "code",
   "execution_count": 7,
   "id": "ca50ee34",
   "metadata": {},
   "outputs": [
    {
     "data": {
      "text/plain": [
       "<AxesSubplot:>"
      ]
     },
     "execution_count": 7,
     "metadata": {},
     "output_type": "execute_result"
    },
    {
     "data": {
      "image/png": "[encoded data removed]",
      "text/plain": [
       "<Figure size 720x144 with 2 Axes>"
      ]
     },
     "metadata": {},
     "output_type": "display_data"
    }
   ],
   "source": [
    "sns.heatmap(df.corr(),annot=True)"
   ]
  },
  {
   "cell_type": "code",
   "execution_count": 8,
   "id": "5966158b",
   "metadata": {},
   "outputs": [
    {
     "data": {
      "text/html": [
       "<div>\n",
       "<style scoped>\n",
       "    .dataframe tbody tr th:only-of-type {\n",
       "        vertical-align: middle;\n",
       "    }\n",
       "\n",
       "    .dataframe tbody tr th {\n",
       "        vertical-align: top;\n",
       "    }\n",
       "\n",
       "    .dataframe thead th {\n",
       "        text-align: right;\n",
       "    }\n",
       "</style>\n",
       "<table border=\"1\" class=\"dataframe\">\n",
       "  <thead>\n",
       "    <tr style=\"text-align: right;\">\n",
       "      <th></th>\n",
       "      <th>city</th>\n",
       "      <th>monthly_rant</th>\n",
       "      <th>BHKS</th>\n",
       "      <th>Baths</th>\n",
       "      <th>sqft_per_inch</th>\n",
       "      <th>build_up_area</th>\n",
       "      <th>Type_of_property</th>\n",
       "      <th>location_of_the_property</th>\n",
       "      <th>deposit</th>\n",
       "    </tr>\n",
       "  </thead>\n",
       "  <tbody>\n",
       "    <tr>\n",
       "      <th>count</th>\n",
       "      <td>146528</td>\n",
       "      <td>1.465280e+05</td>\n",
       "      <td>146528.000000</td>\n",
       "      <td>146528</td>\n",
       "      <td>1.465280e+05</td>\n",
       "      <td>146528</td>\n",
       "      <td>146528</td>\n",
       "      <td>146528</td>\n",
       "      <td>1.465280e+05</td>\n",
       "    </tr>\n",
       "    <tr>\n",
       "      <th>unique</th>\n",
       "      <td>8</td>\n",
       "      <td>NaN</td>\n",
       "      <td>NaN</td>\n",
       "      <td>41</td>\n",
       "      <td>NaN</td>\n",
       "      <td>4</td>\n",
       "      <td>7</td>\n",
       "      <td>12555</td>\n",
       "      <td>NaN</td>\n",
       "    </tr>\n",
       "    <tr>\n",
       "      <th>top</th>\n",
       "      <td>ncr</td>\n",
       "      <td>NaN</td>\n",
       "      <td>NaN</td>\n",
       "      <td>2 Baths</td>\n",
       "      <td>NaN</td>\n",
       "      <td>Super built-up Area</td>\n",
       "      <td>Residential</td>\n",
       "      <td>Goregaon (East)</td>\n",
       "      <td>NaN</td>\n",
       "    </tr>\n",
       "    <tr>\n",
       "      <th>freq</th>\n",
       "      <td>42016</td>\n",
       "      <td>NaN</td>\n",
       "      <td>NaN</td>\n",
       "      <td>68767</td>\n",
       "      <td>NaN</td>\n",
       "      <td>69918</td>\n",
       "      <td>102024</td>\n",
       "      <td>807</td>\n",
       "      <td>NaN</td>\n",
       "    </tr>\n",
       "    <tr>\n",
       "      <th>mean</th>\n",
       "      <td>NaN</td>\n",
       "      <td>3.414242e+04</td>\n",
       "      <td>2.159703</td>\n",
       "      <td>NaN</td>\n",
       "      <td>2.463806e+03</td>\n",
       "      <td>NaN</td>\n",
       "      <td>NaN</td>\n",
       "      <td>NaN</td>\n",
       "      <td>1.203667e+05</td>\n",
       "    </tr>\n",
       "    <tr>\n",
       "      <th>std</th>\n",
       "      <td>NaN</td>\n",
       "      <td>8.428243e+04</td>\n",
       "      <td>1.107673</td>\n",
       "      <td>NaN</td>\n",
       "      <td>1.816119e+05</td>\n",
       "      <td>NaN</td>\n",
       "      <td>NaN</td>\n",
       "      <td>NaN</td>\n",
       "      <td>2.937736e+05</td>\n",
       "    </tr>\n",
       "    <tr>\n",
       "      <th>min</th>\n",
       "      <td>NaN</td>\n",
       "      <td>5.000000e+02</td>\n",
       "      <td>1.000000</td>\n",
       "      <td>NaN</td>\n",
       "      <td>1.000000e+00</td>\n",
       "      <td>NaN</td>\n",
       "      <td>NaN</td>\n",
       "      <td>NaN</td>\n",
       "      <td>0.000000e+00</td>\n",
       "    </tr>\n",
       "    <tr>\n",
       "      <th>25%</th>\n",
       "      <td>NaN</td>\n",
       "      <td>1.300000e+04</td>\n",
       "      <td>1.000000</td>\n",
       "      <td>NaN</td>\n",
       "      <td>6.800000e+02</td>\n",
       "      <td>NaN</td>\n",
       "      <td>NaN</td>\n",
       "      <td>NaN</td>\n",
       "      <td>3.000000e+04</td>\n",
       "    </tr>\n",
       "    <tr>\n",
       "      <th>50%</th>\n",
       "      <td>NaN</td>\n",
       "      <td>2.000000e+04</td>\n",
       "      <td>2.000000</td>\n",
       "      <td>NaN</td>\n",
       "      <td>1.057000e+03</td>\n",
       "      <td>NaN</td>\n",
       "      <td>NaN</td>\n",
       "      <td>NaN</td>\n",
       "      <td>6.000000e+04</td>\n",
       "    </tr>\n",
       "    <tr>\n",
       "      <th>75%</th>\n",
       "      <td>NaN</td>\n",
       "      <td>3.290000e+04</td>\n",
       "      <td>3.000000</td>\n",
       "      <td>NaN</td>\n",
       "      <td>1.500000e+03</td>\n",
       "      <td>NaN</td>\n",
       "      <td>NaN</td>\n",
       "      <td>NaN</td>\n",
       "      <td>1.250000e+05</td>\n",
       "    </tr>\n",
       "    <tr>\n",
       "      <th>max</th>\n",
       "      <td>NaN</td>\n",
       "      <td>9.917000e+06</td>\n",
       "      <td>95.000000</td>\n",
       "      <td>NaN</td>\n",
       "      <td>4.356000e+07</td>\n",
       "      <td>NaN</td>\n",
       "      <td>NaN</td>\n",
       "      <td>NaN</td>\n",
       "      <td>2.100000e+07</td>\n",
       "    </tr>\n",
       "  </tbody>\n",
       "</table>\n",
       "</div>"
      ],
      "text/plain": [
       "          city  monthly_rant           BHKS    Baths  sqft_per_inch  \\\n",
       "count   146528  1.465280e+05  146528.000000   146528   1.465280e+05   \n",
       "unique       8           NaN            NaN       41            NaN   \n",
       "top        ncr           NaN            NaN  2 Baths            NaN   \n",
       "freq     42016           NaN            NaN    68767            NaN   \n",
       "mean       NaN  3.414242e+04       2.159703      NaN   2.463806e+03   \n",
       "std        NaN  8.428243e+04       1.107673      NaN   1.816119e+05   \n",
       "min        NaN  5.000000e+02       1.000000      NaN   1.000000e+00   \n",
       "25%        NaN  1.300000e+04       1.000000      NaN   6.800000e+02   \n",
       "50%        NaN  2.000000e+04       2.000000      NaN   1.057000e+03   \n",
       "75%        NaN  3.290000e+04       3.000000      NaN   1.500000e+03   \n",
       "max        NaN  9.917000e+06      95.000000      NaN   4.356000e+07   \n",
       "\n",
       "              build_up_area Type_of_property location_of_the_property  \\\n",
       "count                146528           146528                   146528   \n",
       "unique                    4                7                    12555   \n",
       "top     Super built-up Area      Residential          Goregaon (East)   \n",
       "freq                  69918           102024                      807   \n",
       "mean                    NaN              NaN                      NaN   \n",
       "std                     NaN              NaN                      NaN   \n",
       "min                     NaN              NaN                      NaN   \n",
       "25%                     NaN              NaN                      NaN   \n",
       "50%                     NaN              NaN                      NaN   \n",
       "75%                     NaN              NaN                      NaN   \n",
       "max                     NaN              NaN                      NaN   \n",
       "\n",
       "             deposit  \n",
       "count   1.465280e+05  \n",
       "unique           NaN  \n",
       "top              NaN  \n",
       "freq             NaN  \n",
       "mean    1.203667e+05  \n",
       "std     2.937736e+05  \n",
       "min     0.000000e+00  \n",
       "25%     3.000000e+04  \n",
       "50%     6.000000e+04  \n",
       "75%     1.250000e+05  \n",
       "max     2.100000e+07  "
      ]
     },
     "execution_count": 8,
     "metadata": {},
     "output_type": "execute_result"
    }
   ],
   "source": [
    "df.describe(include=\"all\")"
   ]
  },
  {
   "cell_type": "code",
   "execution_count": 9,
   "id": "138a7b04",
   "metadata": {},
   "outputs": [
    {
     "data": {
      "text/plain": [
       "city                        0\n",
       "monthly_rant                0\n",
       "BHKS                        0\n",
       "Baths                       0\n",
       "sqft_per_inch               0\n",
       "build_up_area               0\n",
       "Type_of_property            0\n",
       "location_of_the_property    0\n",
       "deposit                     0\n",
       "dtype: int64"
      ]
     },
     "execution_count": 9,
     "metadata": {},
     "output_type": "execute_result"
    }
   ],
   "source": [
    "df.isnull().sum()"
   ]
  },
  {
   "cell_type": "code",
   "execution_count": 10,
   "id": "e071e56d",
   "metadata": {},
   "outputs": [],
   "source": [
    "df.drop([\"Baths\",\"location_of_the_property\"],axis=1,inplace=True)"
   ]
  },
  {
   "cell_type": "code",
   "execution_count": 6,
   "id": "60627244",
   "metadata": {},
   "outputs": [
    {
     "data": {
      "text/plain": [
       "array(['Residential', 'Independent', 'Studio', 'Serviced', 'for', 'Farm',\n",
       "       'Floor'], dtype=object)"
      ]
     },
     "execution_count": 6,
     "metadata": {},
     "output_type": "execute_result"
    }
   ],
   "source": [
    "df.Type_of_property.unique()"
   ]
  },
  {
   "cell_type": "code",
   "execution_count": 12,
   "id": "eaaac038",
   "metadata": {},
   "outputs": [],
   "source": [
    "df=df[df.Type_of_property!=\"for\"]\n",
    "df=df[df.Type_of_property!=\"Serviced\"]\n",
    "df=df[df.Type_of_property!=\"Floor\"]"
   ]
  },
  {
   "cell_type": "code",
   "execution_count": 13,
   "id": "d520b2a7",
   "metadata": {},
   "outputs": [
    {
     "data": {
      "text/plain": [
       "<seaborn.axisgrid.FacetGrid at 0x20456433580>"
      ]
     },
     "execution_count": 13,
     "metadata": {},
     "output_type": "execute_result"
    },
    {
     "data": {
      "image/png": "[encoded data removed]",
      "text/plain": [
       "<Figure size 360x360 with 1 Axes>"
      ]
     },
     "metadata": {},
     "output_type": "display_data"
    }
   ],
   "source": [
    "df[\"monthly_rant\"]=np.log1p(df[\"monthly_rant\"])\n",
    "sns.displot(df[\"monthly_rant\"])"
   ]
  },
  {
   "cell_type": "code",
   "execution_count": 14,
   "id": "01195809",
   "metadata": {},
   "outputs": [
    {
     "name": "stdout",
     "output_type": "stream",
     "text": [
      "city [5 7 3 2 4 0 6 1]\n",
      "['mumbai' 'pune' 'chennai' 'bangalore' 'hyderabad' 'Ahmedabad' 'ncr'\n",
      " 'Trivandraum']\n",
      "\n",
      "build_up_area: [1 3 0 2]\n",
      "['Carpet Area' 'Super built-up Area' 'Built-up Area' 'Plot Area']\n",
      "\n",
      "Type_of_property [2 1 3 0]\n",
      "['Residential' 'Independent' 'Studio' 'Farm']\n",
      "\n"
     ]
    }
   ],
   "source": [
    "city=LabelEncoder()\n",
    "b_u_a=LabelEncoder()\n",
    "T_o_p=LabelEncoder()\n",
    "#l_o_t_p=LabeelEncoder()\n",
    "df[\"city\"]=city.fit_transform(df[\"city\"])\n",
    "df[\"build_up_area\"]=b_u_a.fit_transform(df[\"build_up_area\"])\n",
    "df[\"Type_of_property\"]=T_o_p.fit_transform(df[\"Type_of_property\"])\n",
    "#df[\"location_of_the_property\"]=l_o_t_p.fit_transform(df[\"location_of_the_property\"])\n",
    "print(\"city\",df[\"city\"].unique())\n",
    "print(city.inverse_transform(list(df[\"city\"].unique())))\n",
    "print()\n",
    "print(\"build_up_area:\",df[\"build_up_area\"].unique())\n",
    "print(b_u_a.inverse_transform(list(df[\"build_up_area\"].unique())))\n",
    "print()\n",
    "print(\"Type_of_property\",df[\"Type_of_property\"].unique())\n",
    "print(T_o_p.inverse_transform(list(df[\"Type_of_property\"].unique())))\n",
    "print()\n",
    "#print(\"location_of_the_property\",df[\"location+of_the_property\"].unique())\n",
    "#print(l_o_t_p.inverse_transform(list(df[\"location_of_the_property\"].unique())))"
   ]
  },
  {
   "cell_type": "code",
   "execution_count": 15,
   "id": "17da286b",
   "metadata": {},
   "outputs": [
    {
     "name": "stdout",
     "output_type": "stream",
     "text": [
      "shape of xtrain(116827, 6)\n",
      "shape of xtest(29207, 6)\n",
      "shape of ytrain(116827,)\n",
      "shape of ytest(29207,)\n"
     ]
    }
   ],
   "source": [
    "x=df.drop(\"monthly_rant\",axis=1)\n",
    "#splitting the data into training set & test set\n",
    "y=df.monthly_rant\n",
    "xtrain,xtest,ytrain,ytest=train_test_split(x,y,test_size=0.2,random_state=10)\n",
    "print(\"shape of xtrain{}\".format(xtrain.shape))\n",
    "print(\"shape of xtest{}\".format(xtest.shape))\n",
    "print(\"shape of ytrain{}\".format(ytrain.shape))\n",
    "print(\"shape of ytest{}\".format(ytest.shape))"
   ]
  },
  {
   "cell_type": "code",
   "execution_count": 16,
   "id": "f61865bd",
   "metadata": {},
   "outputs": [],
   "source": [
    "# data normalization\n",
    "st=StandardScaler()\n",
    "xtrain_scaled=st.fit_transform(xtrain)\n",
    "xtest_scaled=st.transform(xtest)"
   ]
  },
  {
   "cell_type": "code",
   "execution_count": 17,
   "id": "3c88622c",
   "metadata": {},
   "outputs": [
    {
     "name": "stdout",
     "output_type": "stream",
     "text": [
      "***Linear Regression model***\n",
      "Score for Linear Regression model is 0.4778447738054473\n",
      "  rmse score for Linear Regression model is 0.5741257717584952\n"
     ]
    }
   ],
   "source": [
    "\n",
    "    lr=LinearRegression()\n",
    "    lr.fit(xtrain_scaled,ytrain)\n",
    "    ypred=lr.predict(xtest_scaled)\n",
    "    score=r2_score(ytest,ypred)\n",
    "    rmse=np.sqrt(mean_squared_error(ytest,ypred))\n",
    "    print(\"***Linear Regression model***\")\n",
    "    print(\"Score for Linear Regression model is {}\".format(score))\n",
    "    print(\"  rmse score for Linear Regression model is {}\".format(rmse))"
   ]
  },
  {
   "cell_type": "code",
   "execution_count": 18,
   "id": "c9d7a0c1",
   "metadata": {},
   "outputs": [
    {
     "name": "stdout",
     "output_type": "stream",
     "text": [
      "***Gradient Boosting Regressor model***\n",
      "Score for Linear Regression model is 0.8778539685709209\n",
      "rmse score for Linear Regression model is 0.2776814754062416\n"
     ]
    }
   ],
   "source": [
    "\n",
    "    gb=GradientBoostingRegressor()\n",
    "    gb.fit(xtrain_scaled,ytrain)\n",
    "    ypred=gb.predict(xtest_scaled)\n",
    "    score=r2_score(ytest,ypred)\n",
    "    rmse=np.sqrt(mean_squared_error(ytest,ypred))\n",
    "    print(\"***Gradient Boosting Regressor model***\")\n",
    "    print(\"Score for Linear Regression model is {}\".format(score))\n",
    "    print(\"rmse score for Linear Regression model is {}\".format(rmse))"
   ]
  },
  {
   "cell_type": "code",
   "execution_count": 19,
   "id": "e9716c9b",
   "metadata": {},
   "outputs": [
    {
     "name": "stdout",
     "output_type": "stream",
     "text": [
      "***Random Forest regression model***\n",
      "Score for Linear Regression model is 0.8948953883703317\n",
      "rmse score for Linear Regression model is 0.25758354360100005\n"
     ]
    }
   ],
   "source": [
    "    rf=RandomForestRegressor()\n",
    "    rf.fit(xtrain_scaled,ytrain)\n",
    "    ypred=rf.predict(xtest_scaled)\n",
    "    score=r2_score(ytest,ypred)\n",
    "    rmse=np.sqrt(mean_squared_error(ytest,ypred))\n",
    "    print(\"***Random Forest regression model***\")\n",
    "    print(\"Score for Linear Regression model is {}\".format(score))\n",
    "    print(\"rmse score for Linear Regression model is {}\".format(rmse))"
   ]
  },
  {
   "cell_type": "code",
   "execution_count": 20,
   "id": "0a0cb922",
   "metadata": {},
   "outputs": [],
   "source": [
    "pickle.dump(rf,open(\"model3.pkl\",\"wb\"))"
   ]
  },
  {
   "cell_type": "code",
   "execution_count": null,
   "id": "ccaaf8d1",
   "metadata": {},
   "outputs": [],
   "source": []
  }
 ],
 "metadata": {
  "kernelspec": {
   "display_name": "Python 3 (ipykernel)",
   "language": "python",
   "name": "python3"
  },
  "language_info": {
   "codemirror_mode": {
    "name": "ipython",
    "version": 3
   },
   "file_extension": ".py",
   "mimetype": "text/x-python",
   "name": "python",
   "nbconvert_exporter": "python",
   "pygments_lexer": "ipython3",
   "version": "3.9.7"
  }
 },
 "nbformat": 4,
 "nbformat_minor": 5
}
